{
 "cells": [
  {
   "cell_type": "code",
   "execution_count": 1,
   "metadata": {
    "id": "Vw7BdDfs7mAr"
   },
   "outputs": [],
   "source": [
    "import cv2\n",
    "from imutils import paths\n",
    "import matplotlib.pyplot as plt\n",
    "import numpy as np\n",
    "\n",
    "import torch\n",
    "import torchvision\n",
    "import torchvision.transforms as transforms\n",
    "import torch.nn as nn\n",
    "import torch.nn.functional as F\n",
    "import torch.optim as optim\n",
    "from torch.nn import ConvTranspose2d\n",
    "from torch.nn import Conv2d\n",
    "from torch.nn import MaxPool2d\n",
    "from torch.nn import Module\n",
    "from torch.nn import ModuleList\n",
    "from torch.nn import ReLU\n",
    "from torch.nn import BCEWithLogitsLoss\n",
    "from torch.utils.data import Dataset\n",
    "from torchvision.transforms import CenterCrop\n",
    "from tqdm import tqdm\n",
    "\n",
    "import os"
   ]
  },
  {
   "cell_type": "code",
   "execution_count": 2,
   "metadata": {},
   "outputs": [],
   "source": [
    "# Определяем параметры обучения\n",
    "INIT_LR = 0.001\n",
    "NUM_EPOCHS = 40\n",
    "BATCH_SIZE = 12\n",
    "# Определяем размеры изображения\n",
    "INPUT_IMAGE_WIDTH = 128\n",
    "INPUT_IMAGE_HEIGHT = 128\n",
    "# Определяем трешхолд\n",
    "THRESHOLD = 0.5\n",
    "# Определяем лямбду для подсчета лосса\n",
    "LAMBDA = 0.5\n",
    "# Определяем пути к директориям\n",
    "BASE_FOLDER = os.curdir\n",
    "MODEL_FOLDER = os.path.join(BASE_FOLDER, \"models\")\n",
    "# Определяем пути к модели\n",
    "MODEL_PATH = os.path.join(MODEL_FOLDER, \"unet_leaf_segmentation.pth\")\n",
    "PLOT_PATH = os.path.sep.join([BASE_FOLDER, \"plots/plot.png\"])\n",
    "# Определяем базовый путь к датасету\n",
    "DATASET_PATH = os.path.join(os.path.curdir, \"aug_data\")\n",
    "# Определяем путь к датасетам\n",
    "IMAGE_DATASET_PATH = os.path.join(DATASET_PATH, \"images\")\n",
    "MASK_DATASET_PATH = os.path.join(DATASET_PATH, \"masks\")\n",
    "# Определяем процент тестовой выборки\n",
    "TEST_SPLIT = 0.15\n",
    "DEVICE = \"cuda\" if torch.cuda.is_available() else \"cpu\"\n",
    "PIN_MEMORY = True if DEVICE == \"cuda\" else False\n",
    "print(DEVICE)"
   ]
  },
  {
   "cell_type": "code",
   "execution_count": 6,
   "metadata": {},
   "outputs": [],
   "source": [
    "from torch.utils.data import Dataset\n",
    "import cv2\n",
    "class SegmentationDataset(Dataset):\n",
    "    def __init__(self, imagePaths, maskPaths, transforms):\n",
    "        self.imagePaths = imagePaths\n",
    "        self.maskPaths = maskPaths\n",
    "        self.transforms = transforms\n",
    "    def __len__(self):\n",
    "        return len(self.imagePaths)\n",
    "    def __getitem__(self, idx):\n",
    "        imagePath = self.imagePaths[idx]\n",
    "        image = cv2.imread(imagePath)\n",
    "        image = cv2.cvtColor(image, cv2.COLOR_BGR2RGB)\n",
    "        mask = cv2.imread(self.maskPaths[idx], cv2.IMREAD_UNCHANGED)\n",
    "        if len(mask.shape) == 3:\n",
    "            mask = mask[:,:,-1]\n",
    "        else:\n",
    "            mask = 1 * (mask > 0)\n",
    "        if self.transforms is not None:\n",
    "            image = self.transforms(image)\n",
    "            mask = self.transforms(mask)\n",
    "        return (image, mask)\n",
    "\n",
    "transformes = torchvision.transforms.Compose([torchvision.transforms.ToPILImage(),\n",
    "    torchvision.transforms.Resize((INPUT_IMAGE_HEIGHT,\n",
    "    INPUT_IMAGE_WIDTH)),\n",
    "    torchvision.transforms.ToTensor()])"
   ]
  },
  {
   "cell_type": "code",
   "execution_count": 7,
   "metadata": {},
   "outputs": [],
   "source": [
    "from imutils import paths\n",
    "from sklearn.model_selection import train_test_split\n",
    "from torch.utils.data import DataLoader\n",
    "\n",
    "# Получаем списки изображений и масок\n",
    "imagePaths = sorted(list(paths.list_images(IMAGE_DATASET_PATH)))\n",
    "maskPaths = sorted(list(paths.list_images(MASK_DATASET_PATH)))\n",
    "# Делим на тестовую и обучающую выборку\n",
    "split = train_test_split(imagePaths, maskPaths,\n",
    "\ttest_size=TEST_SPLIT, random_state=42)\n",
    "(trainImages, testImages) = split[:2]\n",
    "(trainMasks, testMasks) = split[2:]\n",
    "\n",
    "trainDS = SegmentationDataset(imagePaths=trainImages, maskPaths=trainMasks,\n",
    "    transforms=transformes)\n",
    "testDS = SegmentationDataset(imagePaths=testImages, maskPaths=testMasks,\n",
    "    transforms=transformes)\n",
    "trainLoader = DataLoader(trainDS, shuffle=True,\n",
    "    batch_size=BATCH_SIZE, pin_memory=PIN_MEMORY)\n",
    "testLoader = DataLoader(testDS, shuffle=False,\n",
    "    batch_size=BATCH_SIZE, pin_memory=PIN_MEMORY)"
   ]
  },
  {
   "cell_type": "code",
   "execution_count": 8,
   "metadata": {
    "id": "88Ew16AyKpu0"
   },
   "outputs": [],
   "source": [
    "class Block(Module):\n",
    "    def __init__(self, inChannels, outChannels):\n",
    "        super().__init__()\n",
    "        # Объявляем линейные слои с прослойкой из relu\n",
    "        self.conv1 = Conv2d(inChannels, outChannels, 3)\n",
    "        self.relu = ReLU()\n",
    "        self.conv2 = Conv2d(outChannels, outChannels, 3)\n",
    "    def forward(self, x):\n",
    "        # Применяем описанный выше блок\n",
    "        return self.conv2(self.relu(self.conv1(x)))\n",
    "    \n",
    "class Encoder(Module):\n",
    "    def __init__(self, in_channels=3, channels=(16, 32, 64)):\n",
    "        super().__init__()\n",
    "        # Объявляем блоки энкодера с макспуллом\n",
    "        channels = (in_channels,) + channels\n",
    "        self.encBlocks = ModuleList(\n",
    "            [Block(channels[i], channels[i + 1])\n",
    "                for i in range(len(channels) - 1)])\n",
    "        self.pool = MaxPool2d(2)\n",
    "    def forward(self, x):\n",
    "        # Объявляем выходы блоков\n",
    "        blockOutputs = []\n",
    "        # Проходимся по блокам энкодера\n",
    "        for block in self.encBlocks:\n",
    "            # Пропускаем х через очередной блок\n",
    "            x = block(x)\n",
    "            blockOutputs.append(x)\n",
    "            x = self.pool(x)\n",
    "        # Возвращаем список выходов\n",
    "        return blockOutputs\n",
    "    \n",
    "class Decoder(Module):\n",
    "    def __init__(self, channels=(64, 32, 16)):\n",
    "        super().__init__()\n",
    "        self.channels = channels\n",
    "        self.upconvs = ModuleList(\n",
    "            [ConvTranspose2d(channels[i], channels[i + 1], 2, 2)\n",
    "                for i in range(len(channels) - 1)])\n",
    "        self.dec_blocks = ModuleList(\n",
    "            [Block(channels[i], channels[i + 1])\n",
    "                for i in range(len(channels) - 1)])\n",
    "    def forward(self, x, encFeatures):\n",
    "        # Проходимся по каждому из каналов\n",
    "        for i in range(len(self.channels) - 1):\n",
    "            # передаем входные данные через блоки дискретизатора\n",
    "            x = self.upconvs[i](x)\n",
    "            # пропускаем через блок декодера\n",
    "            encFeat = self.crop(encFeatures[i], x)\n",
    "            x = torch.cat([x, encFeat], dim=1)\n",
    "            x = self.dec_blocks[i](x)\n",
    "        # Возвращаем итог\n",
    "        return x\n",
    "    def crop(self, encFeatures, x):\n",
    "        # Оберзаем картинку\n",
    "        (_, _, H, W) = x.shape\n",
    "        encFeatures = CenterCrop([H, W])(encFeatures)\n",
    "        # возвращаем обрезанную картинку\n",
    "        return encFeatures\n",
    "\n",
    "class UNet(Module):\n",
    "    def __init__(self, inChannels=3, encChannels=(16, 32, 64),\n",
    "        decChannels=(64, 32, 16),\n",
    "        nbClasses=1, retainDim=True,\n",
    "        outSize=(INPUT_IMAGE_HEIGHT,  INPUT_IMAGE_WIDTH)):\n",
    "        super().__init__()\n",
    "        # Объявляем энкодер и декодер\n",
    "        self.encoder = Encoder(inChannels, encChannels)\n",
    "        self.decoder = Decoder(decChannels)\n",
    "        encChannels = (inChannels,) + encChannels\n",
    "        self.head = Conv2d(decChannels[-1], nbClasses, 1)\n",
    "        self.retainDim = retainDim\n",
    "        self.outSize = outSize\n",
    "    def forward(self, x):\n",
    "        # Пропускаем x через энкодер\n",
    "        encFeatures = self.encoder(x)\n",
    "        # Пропускаем результат через декодер\n",
    "        decFeatures = self.decoder(encFeatures[::-1][0],\n",
    "            encFeatures[::-1][1:])\n",
    "        map = self.head(decFeatures)\n",
    "        if self.retainDim:\n",
    "            map = F.interpolate(map, self.outSize)\n",
    "        # Возвращаем полученную маску\n",
    "        return map"
   ]
  },
  {
   "cell_type": "code",
   "execution_count": 9,
   "metadata": {},
   "outputs": [],
   "source": [
    "def reduce_loss(loss, reduction):\n",
    "    \"\"\"Reduce loss as specified.\n",
    "    Args:\n",
    "        loss (Tensor): Elementwise loss tensor.\n",
    "        reduction (str): Options are \"none\", \"mean\" and \"sum\".\n",
    "    Return:\n",
    "        Tensor: Reduced loss tensor.\n",
    "    \"\"\"\n",
    "    reduction_enum = F._Reduction.get_enum(reduction)\n",
    "    if reduction_enum == 0:\n",
    "        return loss\n",
    "    elif reduction_enum == 1:\n",
    "        return loss.mean()\n",
    "    elif reduction_enum == 2:\n",
    "        return loss.sum()\n",
    "\n",
    "def dice_loss(pred, target):\n",
    "    \"\"\"This definition generalize to real valued pred and target vector.\n",
    "This should be differentiable.\n",
    "    pred: tensor with first dimension as batch\n",
    "    target: tensor with first dimension as batch\n",
    "    \"\"\"\n",
    "\n",
    "    smooth = 0.001\n",
    "    pred = torch.sigmoid(pred)\n",
    "    iflat = pred.contiguous().view(-1)\n",
    "    tflat = target.contiguous().view(-1)\n",
    "    intersection = (iflat * tflat).sum()\n",
    "\n",
    "    A_sum = torch.sum(iflat * iflat)\n",
    "    B_sum = torch.sum(tflat * tflat)\n",
    "    \n",
    "    return 1 - ((2. * intersection + smooth) / (A_sum + B_sum + smooth) )\n",
    "\n",
    "def weight_reduce_loss(loss, weight=None, reduction='mean', avg_factor=None):\n",
    "    \"\"\"Apply element-wise weight and reduce loss.\n",
    "    Args:\n",
    "        loss (Tensor): Element-wise loss.\n",
    "        weight (Tensor): Element-wise weights.\n",
    "        reduction (str): Same as built-in losses of PyTorch.\n",
    "        avg_factor (float): Average factor when computing the mean of losses.\n",
    "    Returns:\n",
    "        Tensor: Processed loss values.\n",
    "    \"\"\"\n",
    "    if weight is not None:\n",
    "        loss = loss * weight\n",
    "\n",
    "    if avg_factor is None:\n",
    "        loss = reduce_loss(loss, reduction)\n",
    "    else:\n",
    "        if reduction == 'mean':\n",
    "            eps = torch.finfo(torch.float32).eps\n",
    "            loss = loss.sum() / (avg_factor + eps)\n",
    "    return loss\n",
    "\n",
    "def lossFunc(pred, target, weight=None, gamma=2.0, alpha=0.25, reduction='mean', avg_factor=None):\n",
    "    pred_sigmoid = pred.sigmoid()\n",
    "    target = target.type_as(pred)\n",
    "    pt = (1 - pred_sigmoid) * target + pred_sigmoid * (1 - target)\n",
    "    focal_weight = (alpha * target + (1 - alpha) *\n",
    "                    (1 - target)) * pt.pow(gamma)\n",
    "    loss = F.binary_cross_entropy_with_logits(\n",
    "        pred, target, reduction='none') * focal_weight\n",
    "    loss = weight_reduce_loss(loss, weight, reduction, avg_factor)\n",
    "    return loss\n",
    "\n",
    "def get_loss(pred, y):\n",
    "    fu = (lossFunc(pred, (y != 0) * 1.) * (1 - LAMBDA))\n",
    "    dice = dice_loss(pred, y) * LAMBDA\n",
    "    return  fu + dice"
   ]
  },
  {
   "cell_type": "code",
   "execution_count": 10,
   "metadata": {
    "id": "LiJHOFgQ1P6x"
   },
   "outputs": [],
   "source": [
    "unet = UNet().to(DEVICE)\n",
    "opt = Adam(unet.parameters(), lr=INIT_LR)\n",
    "H = {\"train_loss\": [], \"test_loss\": []}"
   ]
  },
  {
   "cell_type": "code",
   "execution_count": 180,
   "metadata": {
    "colab": {
     "base_uri": "https://localhost:8080/"
    },
    "id": "_T9yK7KDNGBi",
    "outputId": "e532b1fc-9ea7-42c3-86ab-1665604a7aa1"
   },
   "outputs": [
    {
     "name": "stdout",
     "output_type": "stream",
     "text": [
      "[INFO] training the network...\n"
     ]
    },
    {
     "name": "stderr",
     "output_type": "stream",
     "text": [
      "  2%|▎         | 1/40 [01:13<47:28, 73.04s/it]"
     ]
    },
    {
     "name": "stdout",
     "output_type": "stream",
     "text": [
      "[INFO] EPOCH: 1/40\n",
      "Train loss: 0.215344, Test loss: 0.2367\n"
     ]
    },
    {
     "name": "stderr",
     "output_type": "stream",
     "text": [
      "\r",
      "  5%|▌         | 2/40 [02:25<45:56, 72.53s/it]"
     ]
    },
    {
     "name": "stdout",
     "output_type": "stream",
     "text": [
      "[INFO] EPOCH: 2/40\n",
      "Train loss: 0.206580, Test loss: 0.2247\n"
     ]
    },
    {
     "name": "stderr",
     "output_type": "stream",
     "text": [
      "\r",
      "  8%|▊         | 3/40 [03:36<44:21, 71.94s/it]"
     ]
    },
    {
     "name": "stdout",
     "output_type": "stream",
     "text": [
      "[INFO] EPOCH: 3/40\n",
      "Train loss: 0.193621, Test loss: 0.2209\n"
     ]
    },
    {
     "name": "stderr",
     "output_type": "stream",
     "text": [
      "\r",
      " 10%|█         | 4/40 [04:47<42:55, 71.54s/it]"
     ]
    },
    {
     "name": "stdout",
     "output_type": "stream",
     "text": [
      "[INFO] EPOCH: 4/40\n",
      "Train loss: 0.183475, Test loss: 0.1936\n"
     ]
    },
    {
     "name": "stderr",
     "output_type": "stream",
     "text": [
      "\r",
      " 12%|█▎        | 5/40 [05:58<41:39, 71.41s/it]"
     ]
    },
    {
     "name": "stdout",
     "output_type": "stream",
     "text": [
      "[INFO] EPOCH: 5/40\n",
      "Train loss: 0.177427, Test loss: 0.1929\n"
     ]
    },
    {
     "name": "stderr",
     "output_type": "stream",
     "text": [
      "\r",
      " 15%|█▌        | 6/40 [07:09<40:21, 71.23s/it]"
     ]
    },
    {
     "name": "stdout",
     "output_type": "stream",
     "text": [
      "[INFO] EPOCH: 6/40\n",
      "Train loss: 0.176827, Test loss: 0.1938\n"
     ]
    },
    {
     "name": "stderr",
     "output_type": "stream",
     "text": [
      "\r",
      " 18%|█▊        | 7/40 [08:18<38:50, 70.61s/it]"
     ]
    },
    {
     "name": "stdout",
     "output_type": "stream",
     "text": [
      "[INFO] EPOCH: 7/40\n",
      "Train loss: 0.176569, Test loss: 0.1885\n"
     ]
    },
    {
     "name": "stderr",
     "output_type": "stream",
     "text": [
      "\r",
      " 20%|██        | 8/40 [09:28<37:26, 70.19s/it]"
     ]
    },
    {
     "name": "stdout",
     "output_type": "stream",
     "text": [
      "[INFO] EPOCH: 8/40\n",
      "Train loss: 0.172560, Test loss: 0.1840\n"
     ]
    },
    {
     "name": "stderr",
     "output_type": "stream",
     "text": [
      "\r",
      " 22%|██▎       | 9/40 [10:37<36:08, 69.94s/it]"
     ]
    },
    {
     "name": "stdout",
     "output_type": "stream",
     "text": [
      "[INFO] EPOCH: 9/40\n",
      "Train loss: 0.168665, Test loss: 0.1884\n"
     ]
    },
    {
     "name": "stderr",
     "output_type": "stream",
     "text": [
      "\r",
      " 25%|██▌       | 10/40 [11:47<34:54, 69.82s/it]"
     ]
    },
    {
     "name": "stdout",
     "output_type": "stream",
     "text": [
      "[INFO] EPOCH: 10/40\n",
      "Train loss: 0.168044, Test loss: 0.1803\n"
     ]
    },
    {
     "name": "stderr",
     "output_type": "stream",
     "text": [
      "\r",
      " 28%|██▊       | 11/40 [12:56<33:42, 69.73s/it]"
     ]
    },
    {
     "name": "stdout",
     "output_type": "stream",
     "text": [
      "[INFO] EPOCH: 11/40\n",
      "Train loss: 0.162917, Test loss: 0.1743\n"
     ]
    },
    {
     "name": "stderr",
     "output_type": "stream",
     "text": [
      "\r",
      " 30%|███       | 12/40 [14:05<32:30, 69.65s/it]"
     ]
    },
    {
     "name": "stdout",
     "output_type": "stream",
     "text": [
      "[INFO] EPOCH: 12/40\n",
      "Train loss: 0.162304, Test loss: 0.1718\n"
     ]
    },
    {
     "name": "stderr",
     "output_type": "stream",
     "text": [
      "\r",
      " 32%|███▎      | 13/40 [15:15<31:18, 69.56s/it]"
     ]
    },
    {
     "name": "stdout",
     "output_type": "stream",
     "text": [
      "[INFO] EPOCH: 13/40\n",
      "Train loss: 0.161137, Test loss: 0.1723\n"
     ]
    },
    {
     "name": "stderr",
     "output_type": "stream",
     "text": [
      "\r",
      " 35%|███▌      | 14/40 [16:24<30:08, 69.56s/it]"
     ]
    },
    {
     "name": "stdout",
     "output_type": "stream",
     "text": [
      "[INFO] EPOCH: 14/40\n",
      "Train loss: 0.161394, Test loss: 0.1745\n"
     ]
    },
    {
     "name": "stderr",
     "output_type": "stream",
     "text": [
      "\r",
      " 38%|███▊      | 15/40 [17:34<28:58, 69.55s/it]"
     ]
    },
    {
     "name": "stdout",
     "output_type": "stream",
     "text": [
      "[INFO] EPOCH: 15/40\n",
      "Train loss: 0.159570, Test loss: 0.1721\n"
     ]
    },
    {
     "name": "stderr",
     "output_type": "stream",
     "text": [
      "\r",
      " 40%|████      | 16/40 [18:44<27:50, 69.59s/it]"
     ]
    },
    {
     "name": "stdout",
     "output_type": "stream",
     "text": [
      "[INFO] EPOCH: 16/40\n",
      "Train loss: 0.158593, Test loss: 0.1689\n"
     ]
    },
    {
     "name": "stderr",
     "output_type": "stream",
     "text": [
      "\r",
      " 42%|████▎     | 17/40 [19:53<26:40, 69.58s/it]"
     ]
    },
    {
     "name": "stdout",
     "output_type": "stream",
     "text": [
      "[INFO] EPOCH: 17/40\n",
      "Train loss: 0.156622, Test loss: 0.1732\n"
     ]
    },
    {
     "name": "stderr",
     "output_type": "stream",
     "text": [
      "\r",
      " 45%|████▌     | 18/40 [21:03<25:32, 69.68s/it]"
     ]
    },
    {
     "name": "stdout",
     "output_type": "stream",
     "text": [
      "[INFO] EPOCH: 18/40\n",
      "Train loss: 0.155987, Test loss: 0.1651\n"
     ]
    },
    {
     "name": "stderr",
     "output_type": "stream",
     "text": [
      "\r",
      " 48%|████▊     | 19/40 [22:13<24:23, 69.68s/it]"
     ]
    },
    {
     "name": "stdout",
     "output_type": "stream",
     "text": [
      "[INFO] EPOCH: 19/40\n",
      "Train loss: 0.155008, Test loss: 0.1705\n"
     ]
    },
    {
     "name": "stderr",
     "output_type": "stream",
     "text": [
      "\r",
      " 50%|█████     | 20/40 [23:23<23:14, 69.74s/it]"
     ]
    },
    {
     "name": "stdout",
     "output_type": "stream",
     "text": [
      "[INFO] EPOCH: 20/40\n",
      "Train loss: 0.154399, Test loss: 0.1620\n"
     ]
    },
    {
     "name": "stderr",
     "output_type": "stream",
     "text": [
      "\r",
      " 52%|█████▎    | 21/40 [24:32<22:04, 69.70s/it]"
     ]
    },
    {
     "name": "stdout",
     "output_type": "stream",
     "text": [
      "[INFO] EPOCH: 21/40\n",
      "Train loss: 0.152745, Test loss: 0.1686\n"
     ]
    },
    {
     "name": "stderr",
     "output_type": "stream",
     "text": [
      "\r",
      " 55%|█████▌    | 22/40 [25:42<20:53, 69.67s/it]"
     ]
    },
    {
     "name": "stdout",
     "output_type": "stream",
     "text": [
      "[INFO] EPOCH: 22/40\n",
      "Train loss: 0.153819, Test loss: 0.1669\n"
     ]
    },
    {
     "name": "stderr",
     "output_type": "stream",
     "text": [
      "\r",
      " 57%|█████▊    | 23/40 [26:51<19:44, 69.66s/it]"
     ]
    },
    {
     "name": "stdout",
     "output_type": "stream",
     "text": [
      "[INFO] EPOCH: 23/40\n",
      "Train loss: 0.150223, Test loss: 0.1613\n"
     ]
    },
    {
     "name": "stderr",
     "output_type": "stream",
     "text": [
      "\r",
      " 60%|██████    | 24/40 [28:01<18:35, 69.70s/it]"
     ]
    },
    {
     "name": "stdout",
     "output_type": "stream",
     "text": [
      "[INFO] EPOCH: 24/40\n",
      "Train loss: 0.149741, Test loss: 0.1625\n"
     ]
    },
    {
     "name": "stderr",
     "output_type": "stream",
     "text": [
      "\r",
      " 62%|██████▎   | 25/40 [29:11<17:25, 69.72s/it]"
     ]
    },
    {
     "name": "stdout",
     "output_type": "stream",
     "text": [
      "[INFO] EPOCH: 25/40\n",
      "Train loss: 0.148804, Test loss: 0.1627\n"
     ]
    },
    {
     "name": "stderr",
     "output_type": "stream",
     "text": [
      "\r",
      " 65%|██████▌   | 26/40 [30:21<16:16, 69.77s/it]"
     ]
    },
    {
     "name": "stdout",
     "output_type": "stream",
     "text": [
      "[INFO] EPOCH: 26/40\n",
      "Train loss: 0.146445, Test loss: 0.1613\n"
     ]
    },
    {
     "name": "stderr",
     "output_type": "stream",
     "text": [
      "\r",
      " 68%|██████▊   | 27/40 [31:31<15:06, 69.75s/it]"
     ]
    },
    {
     "name": "stdout",
     "output_type": "stream",
     "text": [
      "[INFO] EPOCH: 27/40\n",
      "Train loss: 0.146623, Test loss: 0.1796\n"
     ]
    },
    {
     "name": "stderr",
     "output_type": "stream",
     "text": [
      "\r",
      " 70%|███████   | 28/40 [32:40<13:56, 69.75s/it]"
     ]
    },
    {
     "name": "stdout",
     "output_type": "stream",
     "text": [
      "[INFO] EPOCH: 28/40\n",
      "Train loss: 0.148839, Test loss: 0.1657\n"
     ]
    },
    {
     "name": "stderr",
     "output_type": "stream",
     "text": [
      "\r",
      " 72%|███████▎  | 29/40 [33:50<12:47, 69.77s/it]"
     ]
    },
    {
     "name": "stdout",
     "output_type": "stream",
     "text": [
      "[INFO] EPOCH: 29/40\n",
      "Train loss: 0.148938, Test loss: 0.1602\n"
     ]
    },
    {
     "name": "stderr",
     "output_type": "stream",
     "text": [
      "\r",
      " 75%|███████▌  | 30/40 [35:01<11:39, 69.97s/it]"
     ]
    },
    {
     "name": "stdout",
     "output_type": "stream",
     "text": [
      "[INFO] EPOCH: 30/40\n",
      "Train loss: 0.146153, Test loss: 0.1573\n"
     ]
    },
    {
     "name": "stderr",
     "output_type": "stream",
     "text": [
      "\r",
      " 78%|███████▊  | 31/40 [36:11<10:31, 70.12s/it]"
     ]
    },
    {
     "name": "stdout",
     "output_type": "stream",
     "text": [
      "[INFO] EPOCH: 31/40\n",
      "Train loss: 0.144617, Test loss: 0.1631\n"
     ]
    },
    {
     "name": "stderr",
     "output_type": "stream",
     "text": [
      "\r",
      " 80%|████████  | 32/40 [37:22<09:22, 70.34s/it]"
     ]
    },
    {
     "name": "stdout",
     "output_type": "stream",
     "text": [
      "[INFO] EPOCH: 32/40\n",
      "Train loss: 0.143897, Test loss: 0.1570\n"
     ]
    },
    {
     "name": "stderr",
     "output_type": "stream",
     "text": [
      "\r",
      " 82%|████████▎ | 33/40 [38:33<08:12, 70.41s/it]"
     ]
    },
    {
     "name": "stdout",
     "output_type": "stream",
     "text": [
      "[INFO] EPOCH: 33/40\n",
      "Train loss: 0.139330, Test loss: 0.1571\n"
     ]
    },
    {
     "name": "stderr",
     "output_type": "stream",
     "text": [
      "\r",
      " 85%|████████▌ | 34/40 [39:43<07:02, 70.35s/it]"
     ]
    },
    {
     "name": "stdout",
     "output_type": "stream",
     "text": [
      "[INFO] EPOCH: 34/40\n",
      "Train loss: 0.140991, Test loss: 0.1644\n"
     ]
    },
    {
     "name": "stderr",
     "output_type": "stream",
     "text": [
      "\r",
      " 88%|████████▊ | 35/40 [40:53<05:51, 70.22s/it]"
     ]
    },
    {
     "name": "stdout",
     "output_type": "stream",
     "text": [
      "[INFO] EPOCH: 35/40\n",
      "Train loss: 0.143711, Test loss: 0.1568\n"
     ]
    },
    {
     "name": "stderr",
     "output_type": "stream",
     "text": [
      "\r",
      " 90%|█████████ | 36/40 [42:03<04:40, 70.16s/it]"
     ]
    },
    {
     "name": "stdout",
     "output_type": "stream",
     "text": [
      "[INFO] EPOCH: 36/40\n",
      "Train loss: 0.139601, Test loss: 0.1548\n"
     ]
    },
    {
     "name": "stderr",
     "output_type": "stream",
     "text": [
      "\r",
      " 92%|█████████▎| 37/40 [43:13<03:30, 70.17s/it]"
     ]
    },
    {
     "name": "stdout",
     "output_type": "stream",
     "text": [
      "[INFO] EPOCH: 37/40\n",
      "Train loss: 0.137537, Test loss: 0.1586\n"
     ]
    },
    {
     "name": "stderr",
     "output_type": "stream",
     "text": [
      "\r",
      " 95%|█████████▌| 38/40 [44:23<02:20, 70.18s/it]"
     ]
    },
    {
     "name": "stdout",
     "output_type": "stream",
     "text": [
      "[INFO] EPOCH: 38/40\n",
      "Train loss: 0.139637, Test loss: 0.1589\n"
     ]
    },
    {
     "name": "stderr",
     "output_type": "stream",
     "text": [
      "\r",
      " 98%|█████████▊| 39/40 [45:33<01:10, 70.16s/it]"
     ]
    },
    {
     "name": "stdout",
     "output_type": "stream",
     "text": [
      "[INFO] EPOCH: 39/40\n",
      "Train loss: 0.139737, Test loss: 0.1577\n"
     ]
    },
    {
     "name": "stderr",
     "output_type": "stream",
     "text": [
      "100%|██████████| 40/40 [46:43<00:00, 70.10s/it]"
     ]
    },
    {
     "name": "stdout",
     "output_type": "stream",
     "text": [
      "[INFO] EPOCH: 40/40\n",
      "Train loss: 0.139188, Test loss: 0.1568\n",
      "[INFO] total time taken to train the model: 2803.92s\n"
     ]
    },
    {
     "name": "stderr",
     "output_type": "stream",
     "text": [
      "\n"
     ]
    }
   ],
   "source": [
    "# вычисляем шаги за эпоху для обучающего и тестового датасета\n",
    "trainSteps = len(trainDS) // BATCH_SIZE\n",
    "testSteps = len(testDS) // BATCH_SIZE\n",
    "# Цикл по эпохам\n",
    "print(\"[INFO] training the network...\")\n",
    "startTime = time.time()\n",
    "for e in tqdm(range(NUM_EPOCHS)):\n",
    "    unet.train()\n",
    "    totalTrainLoss = 0\n",
    "    totalTestLoss = 0\n",
    "    for (i, (x, y)) in enumerate(trainLoader):\n",
    "        # Посылаем x и y на девайс\n",
    "        (x, y) = (x.to(DEVICE), y.to(DEVICE))\n",
    "        # Получаем преположение модели и считаем лосс\n",
    "        pred = unet(x)\n",
    "        loss = get_loss(pred, (y != 0) * 1.)\n",
    "        # сначала обнулим все ранее накопленные градиенты, затем\n",
    "        # выполним обратное распространение, а затем обновим параметры модели\n",
    "        opt.zero_grad()\n",
    "        loss.backward()\n",
    "        opt.step()\n",
    "        totalTrainLoss += loss\n",
    "    # отключаем подсчет градиента\n",
    "    with torch.no_grad():\n",
    "        unet.eval()\n",
    "        for (x, y) in testLoader:\n",
    "            # Отправляем x и y на девайс\n",
    "            (x, y) = (x.to(DEVICE), y.to(DEVICE))\n",
    "            # Получаем предсказания модели и считаем лосс\n",
    "            pred = unet(x)\n",
    "            totalTestLoss += get_loss(pred, (y != 0) * 1.)\n",
    "    # Считаем средний лосс\n",
    "    avgTrainLoss = totalTrainLoss / trainSteps\n",
    "    avgTestLoss = totalTestLoss / testSteps\n",
    "    # Добавляем текущий лосс\n",
    "    H[\"train_loss\"].append(avgTrainLoss.cpu().detach().numpy())\n",
    "    H[\"test_loss\"].append(avgTestLoss.cpu().detach().numpy())\n",
    "    # Выводим информацию об эпохе\n",
    "    print(\"[INFO] EPOCH: {}/{}\".format(e + 1, NUM_EPOCHS))\n",
    "    print(\"Train loss: {:.6f}, Test loss: {:.4f}\".format(\n",
    "        avgTrainLoss, avgTestLoss))\n",
    "# Выводим общее время обучения\n",
    "endTime = time.time()\n",
    "print(\"[INFO] total time taken to train the model: {:.2f}s\".format(\n",
    "    endTime - startTime))"
   ]
  },
  {
   "cell_type": "code",
   "execution_count": 181,
   "metadata": {
    "id": "dbQiSlb2NGOm"
   },
   "outputs": [
    {
     "data": {
      "image/png": "[encoded data removed]",
      "text/plain": [
       "<Figure size 640x480 with 1 Axes>"
      ]
     },
     "metadata": {},
     "output_type": "display_data"
    }
   ],
   "source": [
    "# Построение графика\n",
    "plt.plot(H[\"train_loss\"],'-o')\n",
    "plt.plot(H[\"test_loss\"],'-o')\n",
    "plt.xlabel('epoch')\n",
    "plt.ylabel('losses')\n",
    "plt.legend(['Train','Test'])\n",
    "plt.title('Train vs Test Losses')\n",
    "\n",
    "# Сохранение графика и модели\n",
    "plt.savefig(PLOT_PATH)\n",
    "torch.save(unet.to(\"cpu\"), MODEL_PATH)"
   ]
  }
 ],
 "metadata": {
  "accelerator": "GPU",
  "colab": {
   "collapsed_sections": [],
   "name": "Copy of PyTorch_cifar10_Regula.ipynb",
   "provenance": []
  },
  "kernelspec": {
   "display_name": "Python 3 (ipykernel)",
   "language": "python",
   "name": "python3"
  },
  "language_info": {
   "codemirror_mode": {
    "name": "ipython",
    "version": 3
   },
   "file_extension": ".py",
   "mimetype": "text/x-python",
   "name": "python",
   "nbconvert_exporter": "python",
   "pygments_lexer": "ipython3",
   "version": "3.9.16"
  }
 },
 "nbformat": 4,
 "nbformat_minor": 1
}
